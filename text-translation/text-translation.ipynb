{
 "cells": [
  {
   "cell_type": "markdown",
   "id": "1dd2b6bbc01dd7f8",
   "metadata": {
    "collapsed": false
   },
   "source": [
    "1. Install dependencies"
   ]
  },
  {
   "cell_type": "code",
   "execution_count": null,
   "id": "initial_id",
   "metadata": {
    "collapsed": true,
    "is_executing": true
   },
   "outputs": [],
   "source": [
    "%pip install -r requirements.txt"
   ]
  },
  {
   "cell_type": "markdown",
   "id": "71872a14",
   "metadata": {},
   "source": [
    "2. Import the SDK client library into your application"
   ]
  },
  {
   "cell_type": "code",
   "execution_count": 4,
   "id": "80f8f83123738c1c",
   "metadata": {
    "collapsed": false,
    "is_executing": true
   },
   "outputs": [],
   "source": [
    "from azure.core.credentials import AzureKeyCredential\n",
    "from azure.ai.translation.text import TextTranslationClient"
   ]
  },
  {
   "cell_type": "markdown",
   "id": "861cd79f",
   "metadata": {},
   "source": [
    "3. Authenticate the client"
   ]
  },
  {
   "cell_type": "code",
   "execution_count": 5,
   "id": "d5d9c832c227dbf9",
   "metadata": {
    "collapsed": false
   },
   "outputs": [],
   "source": [
    "import os\n",
    "from dotenv import load_dotenv\n",
    "from azure.ai.translation.text import TextTranslationClient, TranslatorCredential\n",
    "from azure.ai.translation.text.models import InputTextItem\n",
    "from azure.core.exceptions import HttpResponseError\n",
    "\n",
    "# Load environment variables from .env file\n",
    "load_dotenv()\n",
    "\n",
    "# Access the credentials from environment variables\n",
    "key = os.getenv(\"TRANSLATOR_KEY\")\n",
    "endpoint = os.getenv(\"TRANSLATOR_ENDPOINT\")\n",
    "region = os.getenv(\"TRANSLATOR_REGION\")\n",
    "\n",
    "# Initialize the credential and client\n",
    "credential = TranslatorCredential(key, region)\n",
    "text_translator = TextTranslationClient(endpoint=endpoint, credential=credential)\n"
   ]
  },
  {
   "cell_type": "markdown",
   "id": "fad50514",
   "metadata": {},
   "source": [
    "4. Now try to translate "
   ]
  },
  {
   "cell_type": "code",
   "execution_count": 6,
   "id": "783cf486",
   "metadata": {},
   "outputs": [
    {
     "name": "stdout",
     "output_type": "stream",
     "text": [
      "Text was translated to: 'es' and the result is: 'Esto es una prueba'.\n",
      "Text was translated to: 'it' and the result is: 'Questo è un test'.\n"
     ]
    }
   ],
   "source": [
    "try:\n",
    "    source_language = \"en\"\n",
    "    target_languages = [\"es\", \"it\"]\n",
    "    input_text_elements = [ InputTextItem(text = \"This is a test\") ]\n",
    "\n",
    "    response = text_translator.translate(content = input_text_elements, to = target_languages, from_parameter = source_language)\n",
    "    translation = response[0] if response else None\n",
    "\n",
    "    if translation:\n",
    "        for translated_text in translation.translations:\n",
    "            print(f\"Text was translated to: '{translated_text.to}' and the result is: '{translated_text.text}'.\")\n",
    "\n",
    "except HttpResponseError as exception:\n",
    "    print(f\"Error Code: {exception.error.code}\")\n",
    "    print(f\"Message: {exception.error.message}\")"
   ]
  }
 ],
 "metadata": {
  "kernelspec": {
   "display_name": "Python 3",
   "language": "python",
   "name": "python3"
  },
  "language_info": {
   "codemirror_mode": {
    "name": "ipython",
    "version": 3
   },
   "file_extension": ".py",
   "mimetype": "text/x-python",
   "name": "python",
   "nbconvert_exporter": "python",
   "pygments_lexer": "ipython3",
   "version": "3.12.6"
  }
 },
 "nbformat": 4,
 "nbformat_minor": 5
}
