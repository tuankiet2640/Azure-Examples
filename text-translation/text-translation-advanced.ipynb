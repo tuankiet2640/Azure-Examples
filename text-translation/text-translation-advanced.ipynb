{
 "cells": [
  {
   "cell_type": "markdown",
   "metadata": {},
   "source": [
    "Init"
   ]
  },
  {
   "cell_type": "code",
   "execution_count": 1,
   "metadata": {},
   "outputs": [],
   "source": [
    "import os\n",
    "from dotenv import load_dotenv\n",
    "from azure.ai.translation.text import TextTranslationClient, TranslatorCredential\n",
    "from azure.ai.translation.text.models import InputTextItem\n",
    "from azure.core.exceptions import HttpResponseError\n",
    "\n",
    "# Load environment variables from .env file\n",
    "load_dotenv()\n",
    "\n",
    "# Access the credentials from environment variables\n",
    "key = os.getenv(\"TRANSLATOR_KEY\")\n",
    "endpoint = os.getenv(\"TRANSLATOR_ENDPOINT\")\n",
    "region = os.getenv(\"TRANSLATOR_REGION\")\n",
    "\n",
    "# Initialize the credential and client\n",
    "credential = TranslatorCredential(key, region)\n",
    "text_translator = TextTranslationClient(endpoint=endpoint, credential=credential)\n"
   ]
  },
  {
   "cell_type": "markdown",
   "metadata": {},
   "source": [
    "Get Supported Languages for all other operations\n",
    "This will return language metadata from all supported scopes."
   ]
  },
  {
   "cell_type": "code",
   "execution_count": null,
   "metadata": {},
   "outputs": [],
   "source": [
    "try:\n",
    "    response = text_translator.get_languages()\n",
    "\n",
    "    print(\n",
    "        f\"Number of supported languages for translate operation: {len(response.translation) if response.translation is not None else 0}\"\n",
    "    )\n",
    "    print(\n",
    "        f\"Number of supported languages for transliterate operation: {len(response.transliteration) if response.transliteration is not None else 0}\"\n",
    "    )\n",
    "    print(\n",
    "        f\"Number of supported languages for dictionary operations: {len(response.dictionary) if response.dictionary is not None else 0}\"\n",
    "    )\n",
    "\n",
    "    if response.translation is not None:\n",
    "        print(\"Translation Languages:\")\n",
    "        for key, value in response.translation.items():\n",
    "            print(f\"{key} -- name: {value.name} ({value.native_name})\")\n",
    "\n",
    "    if response.transliteration is not None:\n",
    "        print(\"Transliteration Languages:\")\n",
    "        for key, value in response.transliteration.items():\n",
    "            print(f\"{key} -- name: {value.name}, supported script count: {len(value.scripts)}\")\n",
    "\n",
    "    if response.dictionary is not None:\n",
    "        print(\"Dictionary Languages:\")\n",
    "        for key, value in response.dictionary.items():\n",
    "            print(f\"{key} -- name: {value.name}, supported target languages count: {len(value.translations)}\")\n",
    "\n",
    "except HttpResponseError as exception:\n",
    "    if exception.error is not None:\n",
    "        print(f\"Error Code: {exception.error.code}\")\n",
    "        print(f\"Message: {exception.error.message}\")\n",
    "    raise"
   ]
  },
  {
   "cell_type": "markdown",
   "metadata": {},
   "source": [
    "Translate with auto-detection\n",
    "You can omit source language of the input text. In this case, API will try to auto-detect the language."
   ]
  },
  {
   "cell_type": "code",
   "execution_count": 14,
   "metadata": {},
   "outputs": [
    {
     "name": "stdout",
     "output_type": "stream",
     "text": [
      "Detected language of the input text: en with score: 1.0.\n",
      "Text was translated to: 'cs' and the result is: 'Tohle je test'.\n"
     ]
    }
   ],
   "source": [
    "from azure.ai.translation.text.models import InputTextItem\n",
    "from azure.core.exceptions import HttpResponseError\n",
    "\n",
    "try:\n",
    "    to_language = [\"cs\"]\n",
    "    input_text_elements = [InputTextItem(text=\"This is a test\")]\n",
    "\n",
    "    response = text_translator.translate(content=input_text_elements, to=to_language)\n",
    "    translation = response[0] if response else None\n",
    "\n",
    "    if translation:\n",
    "        detected_language = translation.detected_language\n",
    "        if detected_language:\n",
    "            print(\n",
    "                f\"Detected language of the input text: {detected_language.language} with score: {detected_language.score}.\"\n",
    "            )\n",
    "        for translated_text in translation.translations:\n",
    "            print(f\"Text was translated to: '{translated_text.to}' and the result is: '{translated_text.text}'.\")\n",
    "\n",
    "except HttpResponseError as exception:\n",
    "    if exception.error is not None:\n",
    "        print(f\"Error Code: {exception.error.code}\")\n",
    "        print(f\"Message: {exception.error.message}\")\n",
    "    raise\n"
   ]
  }
 ],
 "metadata": {
  "kernelspec": {
   "display_name": "Python 3",
   "language": "python",
   "name": "python3"
  },
  "language_info": {
   "codemirror_mode": {
    "name": "ipython",
    "version": 3
   },
   "file_extension": ".py",
   "mimetype": "text/x-python",
   "name": "python",
   "nbconvert_exporter": "python",
   "pygments_lexer": "ipython3",
   "version": "3.12.6"
  }
 },
 "nbformat": 4,
 "nbformat_minor": 2
}
